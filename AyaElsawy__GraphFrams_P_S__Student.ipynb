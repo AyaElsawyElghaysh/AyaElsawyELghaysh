{
  "cells": [
    {
      "cell_type": "markdown",
      "metadata": {
        "id": "view-in-github",
        "colab_type": "text"
      },
      "source": [
        "<a href=\"https://colab.research.google.com/github/AyaElsawyElghaysh/AyaElsawyELghaysh/blob/main/AyaElsawy__GraphFrams_P_S__Student.ipynb\" target=\"_parent\"><img src=\"https://colab.research.google.com/assets/colab-badge.svg\" alt=\"Open In Colab\"/></a>"
      ]
    },
    {
      "cell_type": "markdown",
      "id": "779b346d",
      "metadata": {
        "id": "779b346d"
      },
      "source": [
        "## The following section is for Colab Users.\n",
        "### Just run the following code cells"
      ]
    },
    {
      "cell_type": "code",
      "execution_count": null,
      "id": "7d73eb01",
      "metadata": {
        "id": "7d73eb01",
        "colab": {
          "base_uri": "https://localhost:8080/"
        },
        "outputId": "3f6fddec-82eb-4056-a951-5c2923dab03c"
      },
      "outputs": [
        {
          "output_type": "stream",
          "name": "stdout",
          "text": [
            "\u001b[K     |████████████████████████████████| 281.3 MB 56 kB/s \n",
            "\u001b[K     |████████████████████████████████| 199 kB 68.2 MB/s \n",
            "\u001b[K     |████████████████████████████████| 154 kB 60.8 MB/s \n",
            "\u001b[?25h  Building wheel for pyspark (setup.py) ... \u001b[?25l\u001b[?25hdone\n"
          ]
        }
      ],
      "source": [
        "!apt-get install openjdk-11-jdk-headless -qq > /dev/null\n",
        "!wget -q https://bitbucket.org/habedi/datasets/raw/b6769c4664e7ff68b001e2f43bc517888cbe3642/spark/spark-3.0.2-bin-hadoop2.7.tgz\n",
        "!tar xf spark-3.0.2-bin-hadoop2.7.tgz\n",
        "!rm -rf spark-3.0.2-bin-hadoop2.7.tgz*\n",
        "!pip -q install findspark pyspark graphframes"
      ]
    },
    {
      "cell_type": "code",
      "source": [
        "from google.colab import drive\n",
        "drive.mount('/content/drive')"
      ],
      "metadata": {
        "colab": {
          "base_uri": "https://localhost:8080/"
        },
        "id": "3wc-rU4hXBMD",
        "outputId": "da444cc0-1710-4f22-c868-c94cae77ea4c"
      },
      "id": "3wc-rU4hXBMD",
      "execution_count": null,
      "outputs": [
        {
          "output_type": "stream",
          "name": "stdout",
          "text": [
            "Mounted at /content/drive\n"
          ]
        }
      ]
    },
    {
      "cell_type": "code",
      "execution_count": null,
      "id": "299e0d6a",
      "metadata": {
        "id": "299e0d6a",
        "colab": {
          "base_uri": "https://localhost:8080/"
        },
        "outputId": "fc350924-03a5-41c8-e0ad-6cf5cb462453"
      },
      "outputs": [
        {
          "output_type": "stream",
          "name": "stdout",
          "text": [
            "--2022-06-24 17:47:08--  https://repos.spark-packages.org/graphframes/graphframes/0.8.2-spark3.0-s_2.12/graphframes-0.8.2-spark3.0-s_2.12.jar\n",
            "Resolving repos.spark-packages.org (repos.spark-packages.org)... 54.230.18.120, 54.230.18.27, 54.230.18.61, ...\n",
            "Connecting to repos.spark-packages.org (repos.spark-packages.org)|54.230.18.120|:443... connected.\n",
            "HTTP request sent, awaiting response... 200 OK\n",
            "Length: 247882 (242K) [binary/octet-stream]\n",
            "Saving to: ‘/content/spark-3.0.2-bin-hadoop2.7/jars/graphframes-0.8.2-spark3.0-s_2.12.jar’\n",
            "\n",
            "graphframes-0.8.2-s 100%[===================>] 242.07K  1.49MB/s    in 0.2s    \n",
            "\n",
            "2022-06-24 17:47:08 (1.49 MB/s) - ‘/content/spark-3.0.2-bin-hadoop2.7/jars/graphframes-0.8.2-spark3.0-s_2.12.jar’ saved [247882/247882]\n",
            "\n"
          ]
        }
      ],
      "source": [
        "!wget https://repos.spark-packages.org/graphframes/graphframes/0.8.2-spark3.0-s_2.12/graphframes-0.8.2-spark3.0-s_2.12.jar -P /content/spark-3.0.2-bin-hadoop2.7/jars/\n",
        "!cp /content/spark-3.0.2-bin-hadoop2.7/jars/graphframes-0.8.2-spark3.0-s_2.12.jar /content/spark-3.0.2-bin-hadoop2.7/graphframes-0.8.2-spark3.0-s_2.12.zip"
      ]
    },
    {
      "cell_type": "code",
      "execution_count": null,
      "id": "ee0d39ec",
      "metadata": {
        "id": "ee0d39ec"
      },
      "outputs": [],
      "source": [
        "import os\n",
        "\n",
        "os.environ[\"JAVA_HOME\"] = \"/usr/lib/jvm/java-11-openjdk-amd64\"\n",
        "os.environ[\"SPARK_HOME\"] = \"/content/spark-3.0.2-bin-hadoop2.7\"\n",
        "os.environ[\"HADOOP_HOME\"] = os.environ[\"SPARK_HOME\"]\n",
        "\n",
        "os.environ[\"PYSPARK_DRIVER_PYTHON\"] = \"jupyter\"\n",
        "os.environ[\"PYSPARK_DRIVER_PYTHON_OPTS\"] = \"notebook\"\n",
        "os.environ[\"PYSPARK_SUBMIT_ARGS\"] = \"--master local[*] pyspark-shell\""
      ]
    },
    {
      "cell_type": "code",
      "execution_count": null,
      "id": "7136d8e6",
      "metadata": {
        "id": "7136d8e6"
      },
      "outputs": [],
      "source": [
        "import findspark\n",
        "findspark.init()"
      ]
    },
    {
      "cell_type": "code",
      "execution_count": null,
      "id": "92f3e19b",
      "metadata": {
        "id": "92f3e19b"
      },
      "outputs": [],
      "source": [
        "!export PYSPARK_SUBMIT_ARGS=\"--master local[*] pyspark-shell\"\n",
        "!export PYSPARK_DRIVER_PYTHON=jupyter\n",
        "!export PYSPARK_DRIVER_PYTHON_OPTS=notebook"
      ]
    },
    {
      "cell_type": "code",
      "execution_count": null,
      "id": "f1504ff4",
      "metadata": {
        "id": "f1504ff4"
      },
      "outputs": [],
      "source": [
        "from pyspark.sql import SparkSession\n",
        "from graphframes import *\n",
        "\n",
        "spark = SparkSession.builder.master(\"local[*]\").appName(\"GraphFrames\").getOrCreate()"
      ]
    },
    {
      "cell_type": "code",
      "source": [
        "from pyspark.sql.functions import *"
      ],
      "metadata": {
        "id": "CV3z4vnEYphQ"
      },
      "id": "CV3z4vnEYphQ",
      "execution_count": null,
      "outputs": []
    },
    {
      "cell_type": "code",
      "execution_count": null,
      "id": "252db99a",
      "metadata": {
        "id": "252db99a"
      },
      "outputs": [],
      "source": [
        "os.environ[\"PYSPARK_SUBMIT_ARGS\"] = \"--packages graphframes:graphframes:0.8.1-spark3.0-s_2.12 pyspark-shell\""
      ]
    },
    {
      "cell_type": "markdown",
      "id": "66232934",
      "metadata": {
        "id": "66232934"
      },
      "source": [
        "**************************************************************************\n",
        "**************************************************************************\n",
        "**************************************************************************"
      ]
    },
    {
      "cell_type": "code",
      "execution_count": null,
      "id": "c90808ca",
      "metadata": {
        "id": "c90808ca"
      },
      "outputs": [],
      "source": [
        ""
      ]
    },
    {
      "cell_type": "code",
      "execution_count": null,
      "id": "2a0819b3",
      "metadata": {
        "id": "2a0819b3",
        "outputId": "72e1288b-1396-49e6-da4b-40646b6d25c2",
        "colab": {
          "base_uri": "https://localhost:8080/",
          "height": 17
        }
      },
      "outputs": [
        {
          "output_type": "display_data",
          "data": {
            "text/plain": [
              "<IPython.core.display.HTML object>"
            ],
            "text/html": [
              "<style>pre { white-space: pre !important; }</style>"
            ]
          },
          "metadata": {}
        }
      ],
      "source": [
        "from IPython.display import display, HTML\n",
        "display(HTML(\"<style>pre { white-space: pre !important; }</style>\"))"
      ]
    },
    {
      "cell_type": "markdown",
      "id": "d7f57da0",
      "metadata": {
        "id": "d7f57da0"
      },
      "source": [
        "### Read departuredelays.csv in Edge DataFrame\n",
        "### Read airport-codes-na.txt in Vertix DataFrame (the separator is Tab i.e sep = '\\t' )"
      ]
    },
    {
      "cell_type": "markdown",
      "id": "631c334e",
      "metadata": {
        "id": "631c334e"
      },
      "source": [
        "#### The US flight delays data set has five columns:\n",
        "- The <b>date</b> column contains an integer like 02190925 . When converted, this maps to 02-19 09:25 am.\n",
        "- The <b>delay</b> column gives the delay in minutes between the scheduled and actual departure times. Early departures show negative numbers.\n",
        "- The <b>distance</b> column gives the distance in miles from the origin airport to the destination airport.\n",
        "- The <b>origin</b> column contains the origin IATA airport code.\n",
        "- The <b>destination</b> column contains the destination IATA airport code.\n",
        "\n",
        "#### The airport-codes data set has four columns:\n",
        "- The <b>IATA</b> column contains IATA airport code.\n",
        "- The <b>City, State, and Country</b> columns contains information about the airport location. "
      ]
    },
    {
      "cell_type": "code",
      "execution_count": null,
      "id": "30f02a5a",
      "metadata": {
        "id": "30f02a5a",
        "colab": {
          "base_uri": "https://localhost:8080/"
        },
        "outputId": "5f10e842-83cb-42fb-f717-6efea2be752a"
      },
      "outputs": [
        {
          "output_type": "stream",
          "name": "stdout",
          "text": [
            "+-----------+-----+-------+----+\n",
            "|       City|State|Country|IATA|\n",
            "+-----------+-----+-------+----+\n",
            "| Abbotsford|   BC| Canada| YXX|\n",
            "|   Aberdeen|   SD|    USA| ABR|\n",
            "|    Abilene|   TX|    USA| ABI|\n",
            "|      Akron|   OH|    USA| CAK|\n",
            "|    Alamosa|   CO|    USA| ALS|\n",
            "|     Albany|   GA|    USA| ABY|\n",
            "|     Albany|   NY|    USA| ALB|\n",
            "|Albuquerque|   NM|    USA| ABQ|\n",
            "| Alexandria|   LA|    USA| AEX|\n",
            "|  Allentown|   PA|    USA| ABE|\n",
            "|   Alliance|   NE|    USA| AIA|\n",
            "|     Alpena|   MI|    USA| APN|\n",
            "|    Altoona|   PA|    USA| AOO|\n",
            "|   Amarillo|   TX|    USA| AMA|\n",
            "|Anahim Lake|   BC| Canada| YAA|\n",
            "|  Anchorage|   AK|    USA| ANC|\n",
            "|   Appleton|   WI|    USA| ATW|\n",
            "|     Arviat|  NWT| Canada| YEK|\n",
            "|  Asheville|   NC|    USA| AVL|\n",
            "|      Aspen|   CO|    USA| ASE|\n",
            "+-----------+-----+-------+----+\n",
            "only showing top 20 rows\n",
            "\n",
            "root\n",
            " |-- City: string (nullable = true)\n",
            " |-- State: string (nullable = true)\n",
            " |-- Country: string (nullable = true)\n",
            " |-- IATA: string (nullable = true)\n",
            "\n"
          ]
        }
      ],
      "source": [
        "df_air = spark.read.option(\"header\",\"true\" )\\\n",
        "               .option(\"delimiter\",\"\\t\")\\\n",
        "               .option(\"inferSchema\", \"true\" )\\\n",
        "               .csv(\"/content/drive/MyDrive/Spark_data/data/airport-codes-na.txt\")\n",
        "df_air.show()\n",
        "df_air.printSchema()"
      ]
    },
    {
      "cell_type": "code",
      "source": [
        "depart=spark.read.csv(\"/content/drive/MyDrive/Spark_data/data/departuredelays.csv\",header=True,inferSchema=True)"
      ],
      "metadata": {
        "id": "Zab9fAnCXMh1"
      },
      "id": "Zab9fAnCXMh1",
      "execution_count": null,
      "outputs": []
    },
    {
      "cell_type": "code",
      "source": [
        "depart.show(truncate=False)"
      ],
      "metadata": {
        "colab": {
          "base_uri": "https://localhost:8080/"
        },
        "id": "hDg8V4iNXP8S",
        "outputId": "a458955e-f4ff-414d-93b7-7319b8363289"
      },
      "id": "hDg8V4iNXP8S",
      "execution_count": null,
      "outputs": [
        {
          "output_type": "stream",
          "name": "stdout",
          "text": [
            "+-------+-----+--------+------+-----------+\n",
            "|date   |delay|distance|origin|destination|\n",
            "+-------+-----+--------+------+-----------+\n",
            "|1011245|6    |602     |ABE   |ATL        |\n",
            "|1020600|-8   |369     |ABE   |DTW        |\n",
            "|1021245|-2   |602     |ABE   |ATL        |\n",
            "|1020605|-4   |602     |ABE   |ATL        |\n",
            "|1031245|-4   |602     |ABE   |ATL        |\n",
            "|1030605|0    |602     |ABE   |ATL        |\n",
            "|1041243|10   |602     |ABE   |ATL        |\n",
            "|1040605|28   |602     |ABE   |ATL        |\n",
            "|1051245|88   |602     |ABE   |ATL        |\n",
            "|1050605|9    |602     |ABE   |ATL        |\n",
            "|1061215|-6   |602     |ABE   |ATL        |\n",
            "|1061725|69   |602     |ABE   |ATL        |\n",
            "|1061230|0    |369     |ABE   |DTW        |\n",
            "|1060625|-3   |602     |ABE   |ATL        |\n",
            "|1070600|0    |369     |ABE   |DTW        |\n",
            "|1071725|0    |602     |ABE   |ATL        |\n",
            "|1071230|0    |369     |ABE   |DTW        |\n",
            "|1070625|0    |602     |ABE   |ATL        |\n",
            "|1071219|0    |569     |ABE   |ORD        |\n",
            "|1080600|0    |369     |ABE   |DTW        |\n",
            "+-------+-----+--------+------+-----------+\n",
            "only showing top 20 rows\n",
            "\n"
          ]
        }
      ]
    },
    {
      "cell_type": "markdown",
      "id": "e1d90463",
      "metadata": {
        "id": "e1d90463"
      },
      "source": [
        "### In the vertix DataFrame, drop any duplicated rows with the same  IATA code."
      ]
    },
    {
      "cell_type": "code",
      "execution_count": null,
      "id": "15571db4",
      "metadata": {
        "id": "15571db4",
        "colab": {
          "base_uri": "https://localhost:8080/"
        },
        "outputId": "6e925bfd-8429-4897-ae54-8e028a6f5fcb"
      },
      "outputs": [
        {
          "output_type": "stream",
          "name": "stdout",
          "text": [
            "+--------------+-------+-------+----+\n",
            "|          City|  State|Country|IATA|\n",
            "+--------------+-------+-------+----+\n",
            "|    Clarksburg|     WV|    USA| CKB|\n",
            "|    Fort Dodge|     IA|    USA| FOD|\n",
            "|       Redmond|     OR|    USA| RDM|\n",
            "|        Valdez|     AK|    USA| VDZ|\n",
            "|       Lebanon|     NH|    USA| LEB|\n",
            "|         Aspen|     CO|    USA| ASE|\n",
            "| Rouyn-Noranda|     PQ| Canada| YUY|\n",
            "|       Iqaluit|Nunavut| Canada| YFB|\n",
            "|       Toronto|     ON| Canada| YYZ|\n",
            "|    Dillingham|     AK|    USA| DLG|\n",
            "|   Fort Nelson|     BC| Canada| YYE|\n",
            "|      Pellston|     MI|    USA| PLN|\n",
            "|     St. Cloud|     MN|    USA| STC|\n",
            "|St. Petersburg|     FL|    USA| PIE|\n",
            "|    Great Bend|     KS|    USA| GBD|\n",
            "|          Hilo|     HI|    USA| Big|\n",
            "|       Kelowna|     BC| Canada| YLW|\n",
            "|       Bemidji|     MN|    USA| BJI|\n",
            "|        London|     ON| Canada| YXU|\n",
            "|      Longview|     TX|    USA| GGG|\n",
            "+--------------+-------+-------+----+\n",
            "only showing top 20 rows\n",
            "\n"
          ]
        }
      ],
      "source": [
        "vertix_1=df_air.distinct()\n",
        "vertix_1.show()"
      ]
    },
    {
      "cell_type": "markdown",
      "id": "83d1dea8",
      "metadata": {
        "id": "83d1dea8"
      },
      "source": [
        "### In the edges DataFrame:\n",
        "- Rename the <b>date</b> columns to become <b>tripid</b>.\n",
        "- Rename the <b>origin</b> columns to become <b>src</b>.\n",
        "- Rename the <b>destination</b> columns to become <b>dst</b>."
      ]
    },
    {
      "cell_type": "code",
      "execution_count": null,
      "id": "5319e844",
      "metadata": {
        "id": "5319e844"
      },
      "outputs": [],
      "source": [
        "depart_2=depart.withColumnRenamed(\"date\",\"tripid\")\n",
        "depart_3=depart_2.withColumnRenamed(\"origin\",\"src\")\n",
        "depart_4=depart_3.withColumnRenamed(\"destination\",\"dst\")"
      ]
    },
    {
      "cell_type": "code",
      "source": [
        "depart_4.printSchema()"
      ],
      "metadata": {
        "colab": {
          "base_uri": "https://localhost:8080/"
        },
        "id": "VthOu-dMXeW1",
        "outputId": "24547299-56af-48f5-aa70-dc26642b65eb"
      },
      "id": "VthOu-dMXeW1",
      "execution_count": null,
      "outputs": [
        {
          "output_type": "stream",
          "name": "stdout",
          "text": [
            "root\n",
            " |-- tripid: integer (nullable = true)\n",
            " |-- delay: integer (nullable = true)\n",
            " |-- distance: integer (nullable = true)\n",
            " |-- src: string (nullable = true)\n",
            " |-- dst: string (nullable = true)\n",
            "\n"
          ]
        }
      ]
    },
    {
      "cell_type": "markdown",
      "id": "260660dc",
      "metadata": {
        "id": "260660dc"
      },
      "source": [
        "### In the Vertix DataFrame:\n",
        "- Rename the <b>IATA</b> columns to become <b>id</b>."
      ]
    },
    {
      "cell_type": "code",
      "execution_count": null,
      "id": "42846969",
      "metadata": {
        "scrolled": false,
        "id": "42846969"
      },
      "outputs": [],
      "source": [
        "vertix_2=vertix_1.withColumnRenamed(\"IATA\",\"id\")"
      ]
    },
    {
      "cell_type": "code",
      "source": [
        "vertix_2.printSchema()"
      ],
      "metadata": {
        "colab": {
          "base_uri": "https://localhost:8080/"
        },
        "id": "l8MD3XEeXjFg",
        "outputId": "f26eb173-866e-4500-d089-01a9b1c40e93"
      },
      "id": "l8MD3XEeXjFg",
      "execution_count": null,
      "outputs": [
        {
          "output_type": "stream",
          "name": "stdout",
          "text": [
            "root\n",
            " |-- City: string (nullable = true)\n",
            " |-- State: string (nullable = true)\n",
            " |-- Country: string (nullable = true)\n",
            " |-- id: string (nullable = true)\n",
            "\n"
          ]
        }
      ]
    },
    {
      "cell_type": "markdown",
      "id": "4b50a1fe",
      "metadata": {
        "id": "4b50a1fe"
      },
      "source": [
        "### Create GraphFrame from Vertix and Edges DataFrames"
      ]
    },
    {
      "cell_type": "code",
      "execution_count": null,
      "id": "72be9d09",
      "metadata": {
        "id": "72be9d09",
        "colab": {
          "base_uri": "https://localhost:8080/"
        },
        "outputId": "d3b9782a-3179-4270-c5ff-0d55f88d77f4"
      },
      "outputs": [
        {
          "output_type": "stream",
          "name": "stdout",
          "text": [
            "+-------+-----+--------+---+---+\n",
            "| tripid|delay|distance|src|dst|\n",
            "+-------+-----+--------+---+---+\n",
            "|1011245|    6|     602|ABE|ATL|\n",
            "|1020600|   -8|     369|ABE|DTW|\n",
            "|1021245|   -2|     602|ABE|ATL|\n",
            "|1020605|   -4|     602|ABE|ATL|\n",
            "|1031245|   -4|     602|ABE|ATL|\n",
            "|1030605|    0|     602|ABE|ATL|\n",
            "|1041243|   10|     602|ABE|ATL|\n",
            "|1040605|   28|     602|ABE|ATL|\n",
            "|1051245|   88|     602|ABE|ATL|\n",
            "|1050605|    9|     602|ABE|ATL|\n",
            "|1061215|   -6|     602|ABE|ATL|\n",
            "|1061725|   69|     602|ABE|ATL|\n",
            "|1061230|    0|     369|ABE|DTW|\n",
            "|1060625|   -3|     602|ABE|ATL|\n",
            "|1070600|    0|     369|ABE|DTW|\n",
            "|1071725|    0|     602|ABE|ATL|\n",
            "|1071230|    0|     369|ABE|DTW|\n",
            "|1070625|    0|     602|ABE|ATL|\n",
            "|1071219|    0|     569|ABE|ORD|\n",
            "|1080600|    0|     369|ABE|DTW|\n",
            "+-------+-----+--------+---+---+\n",
            "only showing top 20 rows\n",
            "\n"
          ]
        }
      ],
      "source": [
        "gf=GraphFrame(vertix_2,depart_4)\n",
        "gf.edges.show()"
      ]
    },
    {
      "cell_type": "code",
      "source": [
        "gf.vertices.show()"
      ],
      "metadata": {
        "colab": {
          "base_uri": "https://localhost:8080/"
        },
        "id": "TmYj7Vn6XsZY",
        "outputId": "567ffdae-8546-44ab-cfec-629345e8f698"
      },
      "id": "TmYj7Vn6XsZY",
      "execution_count": null,
      "outputs": [
        {
          "output_type": "stream",
          "name": "stdout",
          "text": [
            "+--------------+-------+-------+---+\n",
            "|          City|  State|Country| id|\n",
            "+--------------+-------+-------+---+\n",
            "|    Clarksburg|     WV|    USA|CKB|\n",
            "|    Fort Dodge|     IA|    USA|FOD|\n",
            "|       Redmond|     OR|    USA|RDM|\n",
            "|        Valdez|     AK|    USA|VDZ|\n",
            "|       Lebanon|     NH|    USA|LEB|\n",
            "|         Aspen|     CO|    USA|ASE|\n",
            "| Rouyn-Noranda|     PQ| Canada|YUY|\n",
            "|       Iqaluit|Nunavut| Canada|YFB|\n",
            "|       Toronto|     ON| Canada|YYZ|\n",
            "|    Dillingham|     AK|    USA|DLG|\n",
            "|   Fort Nelson|     BC| Canada|YYE|\n",
            "|      Pellston|     MI|    USA|PLN|\n",
            "|     St. Cloud|     MN|    USA|STC|\n",
            "|St. Petersburg|     FL|    USA|PIE|\n",
            "|    Great Bend|     KS|    USA|GBD|\n",
            "|          Hilo|     HI|    USA|Big|\n",
            "|       Kelowna|     BC| Canada|YLW|\n",
            "|       Bemidji|     MN|    USA|BJI|\n",
            "|        London|     ON| Canada|YXU|\n",
            "|      Longview|     TX|    USA|GGG|\n",
            "+--------------+-------+-------+---+\n",
            "only showing top 20 rows\n",
            "\n"
          ]
        }
      ]
    },
    {
      "cell_type": "markdown",
      "id": "abd2ebc6",
      "metadata": {
        "id": "abd2ebc6"
      },
      "source": [
        "### Determine the number of airports"
      ]
    },
    {
      "cell_type": "code",
      "execution_count": null,
      "id": "f38688c9",
      "metadata": {
        "id": "f38688c9",
        "colab": {
          "base_uri": "https://localhost:8080/"
        },
        "outputId": "8e5fe72a-81e8-406b-99b6-a511422d7432"
      },
      "outputs": [
        {
          "output_type": "stream",
          "name": "stdout",
          "text": [
            "+-------+----------+-----+-------+----+\n",
            "|summary|      City|State|Country|  id|\n",
            "+-------+----------+-----+-------+----+\n",
            "|  count|       526|  523|    526| 526|\n",
            "|   mean|      null| null|   null|null|\n",
            "| stddev|      null| null|   null|null|\n",
            "|    min|Abbotsford|   AB| Canada| ABE|\n",
            "|    max|      Yuma|   YT|    USA| YZV|\n",
            "+-------+----------+-----+-------+----+\n",
            "\n"
          ]
        }
      ],
      "source": [
        "gf.vertices.describe().show()"
      ]
    },
    {
      "cell_type": "code",
      "execution_count": null,
      "id": "db2a507d",
      "metadata": {
        "id": "db2a507d",
        "colab": {
          "base_uri": "https://localhost:8080/"
        },
        "outputId": "9a8efd2a-977a-422e-d028-19be2f253e70"
      },
      "outputs": [
        {
          "output_type": "stream",
          "name": "stdout",
          "text": [
            "+---------+\n",
            "|count(id)|\n",
            "+---------+\n",
            "|      526|\n",
            "+---------+\n",
            "\n"
          ]
        }
      ],
      "source": [
        "gf.vertices.select(count(col('id'))).show()"
      ]
    },
    {
      "cell_type": "markdown",
      "id": "435187a8",
      "metadata": {
        "id": "435187a8"
      },
      "source": [
        "### Determine the number of trips "
      ]
    },
    {
      "cell_type": "code",
      "source": [
        "gf.edges.describe().show()"
      ],
      "metadata": {
        "colab": {
          "base_uri": "https://localhost:8080/"
        },
        "id": "WBqS_mIgX5Tr",
        "outputId": "2402b1f5-d712-45c8-e5b0-3f1eb5fed9fa"
      },
      "id": "WBqS_mIgX5Tr",
      "execution_count": null,
      "outputs": [
        {
          "output_type": "stream",
          "name": "stdout",
          "text": [
            "+-------+-----------------+------------------+-----------------+-------+-------+\n",
            "|summary|           tripid|             delay|         distance|    src|    dst|\n",
            "+-------+-----------------+------------------+-----------------+-------+-------+\n",
            "|  count|          1391578|           1391578|          1391578|1391578|1391578|\n",
            "|   mean|2180446.584000322|12.079802928761449|690.5508264718184|   null|   null|\n",
            "| stddev|838031.1536740534| 38.80773374985635|513.6628153663347|   null|   null|\n",
            "|    min|          1010005|              -112|               21|    ABE|    ABE|\n",
            "|    max|          3312359|              1642|             4330|    YUM|    YUM|\n",
            "+-------+-----------------+------------------+-----------------+-------+-------+\n",
            "\n"
          ]
        }
      ]
    },
    {
      "cell_type": "code",
      "source": [
        "gf.edges.select(count(col(\"tripid\"))).show()"
      ],
      "metadata": {
        "colab": {
          "base_uri": "https://localhost:8080/"
        },
        "id": "ohug4NGYX8zh",
        "outputId": "3244f26c-b039-4565-dac1-8022f6b3ee7b"
      },
      "id": "ohug4NGYX8zh",
      "execution_count": null,
      "outputs": [
        {
          "output_type": "stream",
          "name": "stdout",
          "text": [
            "+-------------+\n",
            "|count(tripid)|\n",
            "+-------------+\n",
            "|      1391578|\n",
            "+-------------+\n",
            "\n"
          ]
        }
      ]
    },
    {
      "cell_type": "markdown",
      "id": "dec8731f",
      "metadata": {
        "id": "dec8731f"
      },
      "source": [
        "### What is the longest delay?"
      ]
    },
    {
      "cell_type": "code",
      "execution_count": null,
      "id": "df3d6aac",
      "metadata": {
        "id": "df3d6aac",
        "colab": {
          "base_uri": "https://localhost:8080/"
        },
        "outputId": "e384efc7-3ff8-4e13-ce4a-042fdee07cc0"
      },
      "outputs": [
        {
          "output_type": "stream",
          "name": "stdout",
          "text": [
            "+---------+\n",
            "|MAX_DELAY|\n",
            "+---------+\n",
            "|     1642|\n",
            "+---------+\n",
            "\n"
          ]
        }
      ],
      "source": [
        "gf.edges.select(max(col(\"delay\")).alias(\"MAX_DELAY\")).show()"
      ]
    },
    {
      "cell_type": "markdown",
      "id": "202d888c",
      "metadata": {
        "id": "202d888c"
      },
      "source": [
        "### Find out the number of delayed flights vs. early flights (flights that departed before actual time)"
      ]
    },
    {
      "cell_type": "code",
      "execution_count": null,
      "id": "7cdd7ff7",
      "metadata": {
        "id": "7cdd7ff7",
        "colab": {
          "base_uri": "https://localhost:8080/"
        },
        "outputId": "1cf88167-8a42-46d6-95ed-ab06a86a80e9"
      },
      "outputs": [
        {
          "output_type": "execute_result",
          "data": {
            "text/plain": [
              "668729"
            ]
          },
          "metadata": {},
          "execution_count": 26
        }
      ],
      "source": [
        "gf.edges.filter(col(\"delay\")<0).count()"
      ]
    },
    {
      "cell_type": "code",
      "source": [
        "gf.edges.filter(col(\"delay\")>0).count()"
      ],
      "metadata": {
        "colab": {
          "base_uri": "https://localhost:8080/"
        },
        "id": "NQRauiprYEV5",
        "outputId": "a5e15a15-bd13-4868-ef11-e14ce8c97c40"
      },
      "id": "NQRauiprYEV5",
      "execution_count": null,
      "outputs": [
        {
          "output_type": "execute_result",
          "data": {
            "text/plain": [
              "591727"
            ]
          },
          "metadata": {},
          "execution_count": 27
        }
      ]
    },
    {
      "cell_type": "markdown",
      "id": "30961bc3",
      "metadata": {
        "id": "30961bc3"
      },
      "source": [
        "### What flight destinations departing SFO are most likely to have significant delays? Select the top 10\n",
        "#### Hint: you should get the average delay for each destination for trips that depart from SFO only"
      ]
    },
    {
      "cell_type": "code",
      "execution_count": null,
      "id": "afdc6842",
      "metadata": {
        "id": "afdc6842"
      },
      "outputs": [],
      "source": [
        ""
      ]
    },
    {
      "cell_type": "markdown",
      "id": "71d46665",
      "metadata": {
        "id": "71d46665"
      },
      "source": [
        "### Find the Incoming connections to the airport sorted in Desc. order."
      ]
    },
    {
      "cell_type": "code",
      "execution_count": null,
      "id": "c28925c3",
      "metadata": {
        "id": "c28925c3",
        "colab": {
          "base_uri": "https://localhost:8080/"
        },
        "outputId": "e4a7b913-9bde-469d-f993-9ee4a12eecbb"
      },
      "outputs": [
        {
          "output_type": "stream",
          "name": "stdout",
          "text": [
            "+---+--------+\n",
            "| id|inDegree|\n",
            "+---+--------+\n",
            "|ATL|   90434|\n",
            "|DFW|   66050|\n",
            "|ORD|   61967|\n",
            "|LAX|   53601|\n",
            "|DEN|   50921|\n",
            "|IAH|   42700|\n",
            "|PHX|   39721|\n",
            "|SFO|   38988|\n",
            "|LAS|   32994|\n",
            "|CLT|   28388|\n",
            "|MCO|   27959|\n",
            "|EWR|   27652|\n",
            "|LGA|   25469|\n",
            "|BOS|   25360|\n",
            "|SLC|   25323|\n",
            "|JFK|   23484|\n",
            "|DTW|   23310|\n",
            "|SEA|   23074|\n",
            "|MSP|   22385|\n",
            "|MIA|   21805|\n",
            "+---+--------+\n",
            "only showing top 20 rows\n",
            "\n"
          ]
        }
      ],
      "source": [
        "gf.inDegrees.orderBy('inDegree', ascending=False).show()"
      ]
    },
    {
      "cell_type": "markdown",
      "id": "d1b6509d",
      "metadata": {
        "id": "d1b6509d"
      },
      "source": [
        "### Find the Outgoing connections from the airport sorted in Desc. order."
      ]
    },
    {
      "cell_type": "code",
      "execution_count": null,
      "id": "631af51d",
      "metadata": {
        "id": "631af51d",
        "colab": {
          "base_uri": "https://localhost:8080/"
        },
        "outputId": "d5d24e06-20d8-4687-ba83-04563b313cd4"
      },
      "outputs": [
        {
          "output_type": "stream",
          "name": "stdout",
          "text": [
            "+---+---------+\n",
            "| id|outDegree|\n",
            "+---+---------+\n",
            "|ATL|    91484|\n",
            "|DFW|    68482|\n",
            "|ORD|    64228|\n",
            "|LAX|    54086|\n",
            "|DEN|    53148|\n",
            "|IAH|    43361|\n",
            "|PHX|    40155|\n",
            "|SFO|    39483|\n",
            "|LAS|    33107|\n",
            "|CLT|    28402|\n",
            "|MCO|    28313|\n",
            "|EWR|    27656|\n",
            "|SLC|    25868|\n",
            "|LGA|    25458|\n",
            "|BOS|    25348|\n",
            "|MSP|    24031|\n",
            "|JFK|    23572|\n",
            "|DTW|    23421|\n",
            "|SEA|    23078|\n",
            "|MIA|    21817|\n",
            "+---+---------+\n",
            "only showing top 20 rows\n",
            "\n"
          ]
        }
      ],
      "source": [
        "gf.outDegrees.orderBy('outDegree', ascending=False).show()"
      ]
    },
    {
      "cell_type": "markdown",
      "id": "fbec58ce",
      "metadata": {
        "id": "fbec58ce"
      },
      "source": [
        "### Use motif finding to answer this question: which delays could we blame on SFO?\n",
        "#### Hint: this practically means that SFO is a transit station"
      ]
    },
    {
      "cell_type": "code",
      "execution_count": null,
      "id": "db17f3df",
      "metadata": {
        "id": "db17f3df",
        "colab": {
          "base_uri": "https://localhost:8080/"
        },
        "outputId": "db21847d-fbfc-47b2-95c4-cb807b241a3f"
      },
      "outputs": [
        {
          "output_type": "stream",
          "name": "stdout",
          "text": [
            "+--------------------+--------------------+--------------------+\n",
            "|                  v1|                 SFO|                  v2|\n",
            "+--------------------+--------------------+--------------------+\n",
            "|[Allentown, PA, U...|[1011245, 6, 602,...|[Atlanta, GA, USA...|\n",
            "|[Allentown, PA, U...|[1020600, -8, 369...|[Detroit, MI, USA...|\n",
            "|[Allentown, PA, U...|[1021245, -2, 602...|[Atlanta, GA, USA...|\n",
            "|[Allentown, PA, U...|[1020605, -4, 602...|[Atlanta, GA, USA...|\n",
            "|[Allentown, PA, U...|[1031245, -4, 602...|[Atlanta, GA, USA...|\n",
            "|[Allentown, PA, U...|[1030605, 0, 602,...|[Atlanta, GA, USA...|\n",
            "|[Allentown, PA, U...|[1041243, 10, 602...|[Atlanta, GA, USA...|\n",
            "|[Allentown, PA, U...|[1040605, 28, 602...|[Atlanta, GA, USA...|\n",
            "|[Allentown, PA, U...|[1051245, 88, 602...|[Atlanta, GA, USA...|\n",
            "|[Allentown, PA, U...|[1050605, 9, 602,...|[Atlanta, GA, USA...|\n",
            "|[Allentown, PA, U...|[1061215, -6, 602...|[Atlanta, GA, USA...|\n",
            "|[Allentown, PA, U...|[1061725, 69, 602...|[Atlanta, GA, USA...|\n",
            "|[Allentown, PA, U...|[1061230, 0, 369,...|[Detroit, MI, USA...|\n",
            "|[Allentown, PA, U...|[1060625, -3, 602...|[Atlanta, GA, USA...|\n",
            "|[Allentown, PA, U...|[1070600, 0, 369,...|[Detroit, MI, USA...|\n",
            "|[Allentown, PA, U...|[1071725, 0, 602,...|[Atlanta, GA, USA...|\n",
            "|[Allentown, PA, U...|[1071230, 0, 369,...|[Detroit, MI, USA...|\n",
            "|[Allentown, PA, U...|[1070625, 0, 602,...|[Atlanta, GA, USA...|\n",
            "|[Allentown, PA, U...|[1071219, 0, 569,...|[Chicago, IL, USA...|\n",
            "|[Allentown, PA, U...|[1080600, 0, 369,...|[Detroit, MI, USA...|\n",
            "+--------------------+--------------------+--------------------+\n",
            "only showing top 20 rows\n",
            "\n"
          ]
        }
      ],
      "source": [
        "gf.find(\"(v1)-[SFO]->(v2)\").show()"
      ]
    },
    {
      "cell_type": "markdown",
      "id": "cc1ece96",
      "metadata": {
        "id": "cc1ece96"
      },
      "source": [
        "### Determine Airport Ranking in Desc. order using PageRank algorithm"
      ]
    },
    {
      "cell_type": "code",
      "execution_count": null,
      "id": "f754d545",
      "metadata": {
        "id": "f754d545",
        "colab": {
          "base_uri": "https://localhost:8080/"
        },
        "outputId": "5ae90e38-435c-4d17-b5d5-ec7ac5780491"
      },
      "outputs": [
        {
          "output_type": "stream",
          "name": "stdout",
          "text": [
            "+--------------+-----+-------+---+------------------+\n",
            "|          City|State|Country| id|          pagerank|\n",
            "+--------------+-----+-------+---+------------------+\n",
            "|       Atlanta|   GA|    USA|ATL| 33.96309070020015|\n",
            "|        Dallas|   TX|    USA|DFW|24.824283143819542|\n",
            "|       Chicago|   IL|    USA|ORD|23.380064781830225|\n",
            "|   Los Angeles|   CA|    USA|LAX|20.028146392517304|\n",
            "|        Denver|   CO|    USA|DEN|19.159892249109248|\n",
            "|       Houston|   TX|    USA|IAH|15.945627536817861|\n",
            "|       Phoenix|   AZ|    USA|PHX|14.877539591441929|\n",
            "| San Francisco|   CA|    USA|SFO|14.633841499481823|\n",
            "|     Las Vegas|   NV|    USA|LAS|12.371796694213915|\n",
            "|     Charlotte|   NC|    USA|CLT|10.470743193006143|\n",
            "|        Newark|   NJ|    USA|EWR|10.165802288086578|\n",
            "|       Orlando|   FL|    USA|MCO|10.135934840422118|\n",
            "|Salt Lake City|   UT|    USA|SLC| 9.679616724705348|\n",
            "|      New York|   NY|    USA|LGA|  9.51032873001114|\n",
            "|        Boston|   MA|    USA|BOS| 9.321359553228293|\n",
            "|       Seattle|   WA|    USA|SEA| 9.029317325481932|\n",
            "|       Detroit|   MI|    USA|DTW| 8.756195758197952|\n",
            "|   Minneapolis|   MN|    USA|MSP| 8.450311696655124|\n",
            "|      New York|   NY|    USA|JFK| 8.188329602655433|\n",
            "|     Baltimore|   MD|    USA|BWI| 7.963225579347633|\n",
            "+--------------+-----+-------+---+------------------+\n",
            "only showing top 20 rows\n",
            "\n"
          ]
        }
      ],
      "source": [
        "rs=gf.pageRank(resetProbability=.01,maxIter=10)\n",
        "flights=rs.vertices.orderBy(\"pagerank\",ascending=False)\n",
        "flights.show()"
      ]
    },
    {
      "cell_type": "markdown",
      "id": "fe1e7648",
      "metadata": {
        "id": "fe1e7648"
      },
      "source": [
        "## Determine the most popular flights (single city hops)"
      ]
    },
    {
      "cell_type": "code",
      "execution_count": null,
      "id": "da4b3306",
      "metadata": {
        "id": "da4b3306",
        "colab": {
          "base_uri": "https://localhost:8080/"
        },
        "outputId": "657b5f67-d40a-4d89-8461-dd5d66f6439a"
      },
      "outputs": [
        {
          "output_type": "stream",
          "name": "stdout",
          "text": [
            "+-------------+\n",
            "|         City|\n",
            "+-------------+\n",
            "|      Atlanta|\n",
            "|       Dallas|\n",
            "|      Chicago|\n",
            "|  Los Angeles|\n",
            "|       Denver|\n",
            "|      Houston|\n",
            "|      Phoenix|\n",
            "|San Francisco|\n",
            "|    Las Vegas|\n",
            "|    Charlotte|\n",
            "+-------------+\n",
            "\n"
          ]
        }
      ],
      "source": [
        "flights.select(\"City\").limit(10).show()"
      ]
    },
    {
      "cell_type": "markdown",
      "id": "8ebb5e18",
      "metadata": {
        "id": "8ebb5e18"
      },
      "source": [
        "### Find and Save a Subragph that obtained from the following pattern:\n",
        "#### The flight starts from an airport and return back to the same airport through 2 other airports."
      ]
    },
    {
      "cell_type": "code",
      "execution_count": null,
      "id": "00361946",
      "metadata": {
        "id": "00361946"
      },
      "outputs": [],
      "source": [
        "sub_graph=gf.find(\"(v1)-[e1]->(v2);(v2)-[e2]->(v3);(v3)-[e3]->(v1)\")"
      ]
    },
    {
      "cell_type": "code",
      "source": [
        "sub=sub_graph.select(\"v2\",\"v3\")"
      ],
      "metadata": {
        "id": "Of-aM-rRqE_u"
      },
      "id": "Of-aM-rRqE_u",
      "execution_count": null,
      "outputs": []
    },
    {
      "cell_type": "code",
      "source": [
        "sub.show()"
      ],
      "metadata": {
        "id": "u0-X73Ob1HFv"
      },
      "id": "u0-X73Ob1HFv",
      "execution_count": null,
      "outputs": []
    },
    {
      "cell_type": "code",
      "source": [
        ""
      ],
      "metadata": {
        "id": "Xf79kTcE5VIe"
      },
      "id": "Xf79kTcE5VIe",
      "execution_count": null,
      "outputs": []
    }
  ],
  "metadata": {
    "kernelspec": {
      "display_name": "Python 3 (ipykernel)",
      "language": "python",
      "name": "python3"
    },
    "language_info": {
      "codemirror_mode": {
        "name": "ipython",
        "version": 3
      },
      "file_extension": ".py",
      "mimetype": "text/x-python",
      "name": "python",
      "nbconvert_exporter": "python",
      "pygments_lexer": "ipython3",
      "version": "3.9.12"
    },
    "colab": {
      "name": "AyaElsawy_ GraphFrams_P.S._Student.ipynb",
      "provenance": [],
      "collapsed_sections": [],
      "include_colab_link": true
    },
    "accelerator": "GPU",
    "gpuClass": "standard"
  },
  "nbformat": 4,
  "nbformat_minor": 5
}